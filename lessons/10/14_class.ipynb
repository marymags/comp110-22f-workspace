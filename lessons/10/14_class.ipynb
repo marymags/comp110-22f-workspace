{
 "cells": [
  {
   "cell_type": "markdown",
   "metadata": {},
   "source": [
    "# In-Person class 10/14/22\n",
    "\n",
    "## Row vs. Column Orientation\n",
    "\n",
    "## Today's goals\n",
    "\n",
    "1. Consider composed data structures (lists of dicts, dict of lists)\n",
    "2. hands-on coding: Quantifying Shakespeare\n",
    "    - What are the frequencies of specific letters in Shakespare's complete works?\n",
    "\n",
    "## Announcements:\n",
    "- EX08 Due Wednesday 10/26\n",
    "- RD01 Due Friday\n",
    "- Quiz 02 Due Tuesday 10/18\n",
    "    - Cumulative in lessons through LS19, CL06 (in-person classes), and ex07\n",
    "    - Will include hand-written coding challenges"
   ]
  },
  {
   "cell_type": "code",
   "execution_count": null,
   "metadata": {},
   "outputs": [],
   "source": [
    "rows: list[dict[str, int]] = [\n",
    "    {\"hi\": 76, \"lo\": 51},\n",
    "    {\"hi\": 77, \"lo\": 53}\n",
    "]\n",
    "\n",
    "cols: dict[str, list[int]] = {\n",
    "    \"hi\": [76, 77],\n",
    "    \"lo\": [51, 53]\n",
    "}\n",
    "\n",
    "foo: list[int] = cols[\"hi\"]"
   ]
  },
  {
   "cell_type": "markdown",
   "metadata": {},
   "source": [
    "The diagram for this bit of code is in paper notebook on page 55."
   ]
  },
  {
   "cell_type": "markdown",
   "metadata": {},
   "source": [
    "Row vs colulmn orientation:\n",
    "\n",
    "rows[0][\"hi\"] is 76\n",
    "\n",
    "cols[\"hi][0] is 76\n",
    "\n",
    "this data is easier to compute in colulmn orientation. These are the inverse of each other, but they both reference the same value, 76. "
   ]
  }
 ],
 "metadata": {
  "kernelspec": {
   "display_name": "Python 3.10.6 64-bit",
   "language": "python",
   "name": "python3"
  },
  "language_info": {
   "name": "python",
   "version": "3.10.6"
  },
  "orig_nbformat": 4,
  "vscode": {
   "interpreter": {
    "hash": "af025bc71b7231824b1b008fcccc463a07cdc7304341fb602b0178793b1224fc"
   }
  }
 },
 "nbformat": 4,
 "nbformat_minor": 2
}
